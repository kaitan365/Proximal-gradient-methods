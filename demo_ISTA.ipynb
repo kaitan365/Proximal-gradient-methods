{
 "cells": [
  {
   "cell_type": "code",
   "execution_count": 43,
   "metadata": {},
   "outputs": [],
   "source": [
    "import numpy as np\n",
    "from scipy import linalg as la\n",
    "from scipy.linalg import norm\n",
    "import pywt\n",
    "from scipy.linalg import solve_triangular\n",
    "from scipy import sparse\n",
    "import matplotlib.pyplot as plt"
   ]
  },
  {
   "cell_type": "markdown",
   "metadata": {},
   "source": [
    "We try to solve the Lasso problem\n",
    "$$ \\min_{b\\in \\mathbb R^p} \\frac{1}{2n} \\| y - Xb \\|_2^2 + \\lambda \\| b \\|_1 $$"
   ]
  },
  {
   "cell_type": "code",
   "execution_count": 44,
   "metadata": {},
   "outputs": [],
   "source": [
    "def ista(X, y, lam, L, b0, maxiter=100):\n",
    "    \"\"\" \n",
    "    Solve Lasso via ISTA (Iterative Shrinkage-Thresholding Algorithm)\n",
    "    \n",
    "    Parameters\n",
    "    ----------\n",
    "    X: design matrix, array_like, shape (n, 2)\n",
    "    y: response vector, array_like, shape (n, )\n",
    "    lam: regularization parameter, scalar\n",
    "    L: Lipschitz constant of the quadratic form \n",
    "    b0: initialization of the coefficient vector\n",
    "\n",
    "    Returns\n",
    "    -------\n",
    "    B: estimated coefficient vectors, shape (p, maxiter+1), with 1st column b0\n",
    "    \n",
    "    \"\"\"\n",
    "    b = b0.copy()\n",
    "    n, p = X.shape\n",
    "    B = np.zeros((p, maxiter+1))\n",
    "    B[:,0] = b0\n",
    "    for i in range(maxiter):\n",
    "        z = b + 1/(n*L) * X.T @ (y - X@b) # forward(explicit) step\n",
    "        b = pywt.threshold(z, lam/L, 'soft') # backward(implicit) step\n",
    "        B[:,i+1] = b\n",
    "    return B\n",
    "\n",
    "def fista(X, y, lam, L, b0, maxiter=100):\n",
    "    \"\"\" \n",
    "    Solve Lasso via FISTA (Fast Iterative Shrinkage-Thresholding Algorithm)\n",
    "    \n",
    "    Parameters\n",
    "    ----------\n",
    "    X: design matrix, array_like, shape (n, 2)\n",
    "    y: response vector, array_like, shape (n, )\n",
    "    lam: regularization parameter, scalar\n",
    "    L: Lipschitz constant of the quadratic form \n",
    "    b0: initialization of the coefficient vector\n",
    "\n",
    "    Returns\n",
    "    -------\n",
    "    B: estimated coefficient vectors, shape (p, maxiter+1), with 1st column b0\n",
    "    vec1: 1st off diagonal vector (useful for estimating errors), shape (p*maxiter, )\n",
    "    vec2: 2nd off diagonal vector (useful for estimating errors), shape (p*maxiter, )\n",
    "    \n",
    "    \"\"\"\n",
    "    b = b0.copy()\n",
    "    u = b0.copy()\n",
    "    n, p = X.shape\n",
    "    t = 1.0\n",
    "    B = np.zeros((p, maxiter+1))\n",
    "    B[:,0] = b0\n",
    "    vec1 = []\n",
    "    vec2 = []\n",
    "    for i in range(maxiter):\n",
    "        uold = u\n",
    "        # soft-thresholding \n",
    "        u = pywt.threshold(b + 1/(n*L) * X.T @ (y - X@b), lam/L, 'soft')\n",
    "        told = t\n",
    "        t = (1 + np.sqrt(1 + 4*t*t)) / 2\n",
    "        w = (told - 1) / t\n",
    "        b = u + w * (u - uold)\n",
    "        B[:,i+1] = b \n",
    "\n",
    "        vec1 = np.append(vec1, (1+w)*(u!=0))   # 1st off diagonal\n",
    "        t_new = (1 + np.sqrt(1 + 4*t*t)) / 2\n",
    "        w_new = (t - 1) / t_new \n",
    "        vec2 = np.append(vec2, -w_new *(u!=0)) # 2nd off diagonal\n",
    "    return [B, vec1, vec2]"
   ]
  },
  {
   "cell_type": "code",
   "execution_count": 45,
   "metadata": {},
   "outputs": [],
   "source": [
    "n, p, T = 300, 400, 50\n",
    "snr = 100\n",
    "\n",
    "rng = np.random.RandomState()\n",
    "X = rng.randn(n, p)\n",
    "b = np.zeros(p); b[:10] = 1\n",
    "sigma = 0.5\n",
    "b = b /norm(b) * sigma * snr**(.5)\n",
    "y = X @ b + sigma * rng.randn(n)"
   ]
  },
  {
   "cell_type": "code",
   "execution_count": 46,
   "metadata": {},
   "outputs": [],
   "source": [
    "I_p = np.eye(p)\n",
    "I_T = np.eye(T)\n",
    "\n",
    "# ISTA\n",
    "lam = 0.1\n",
    "L = norm(X, ord=2)**2 / n # Lipschitz constant\n",
    "b0 = np.zeros(p)\n",
    "B_hat = ista(X, y, lam, L, b0, maxiter=T-1) # shape (p, T), first column is initialization\n",
    "\n",
    "# calculate D\n",
    "D = np.zeros((p*T, p*T))\n",
    "flag = (np.ravel(B_hat[:,1:].T)!=0) + 0 \n",
    "D[p:, :(p*(T-1))] = np.diag(flag)\n",
    "# plt.spy(D, precision=0, markersize=1)\n",
    "Y = np.array([y] * T).T # replicate response vector y for T times\n",
    "B_true = np.array([b] * T).T # replicate coefficient vector b for T times\n",
    "H = B_hat - B_true\n",
    "F = Y - X @ B_hat"
   ]
  },
  {
   "cell_type": "code",
   "execution_count": 47,
   "metadata": {},
   "outputs": [
    {
     "name": "stdout",
     "output_type": "stream",
     "text": [
      "CPU times: user 4min 52s, sys: 1min 59s, total: 6min 51s\n",
      "Wall time: 28.1 s\n"
     ]
    }
   ],
   "source": [
    "%%time\n",
    "X1 = I_p - X.T @ X / (n*L)\n",
    "D_s = sparse.csr_matrix(D)\n",
    "C = D_s @ sparse.kron(sparse.dia_matrix(I_T), X1)\n",
    "A1 = np.eye(p*T) - C.toarray()\n",
    "M = solve_triangular(A1, D, lower=True) / (n*L) # shape (pT, pT)\n",
    "\n",
    "# faster!!!\n",
    "N = np.zeros((n*T, n*T))\n",
    "for t in range(T):\n",
    "    for t1 in range(T):\n",
    "        N[t*n:(t+1)*n,t1*n:(t1+1)*n] = X @ M[t*p:(t+1)*p,t1*p:(t1+1)*p] @ X.T\n",
    "# temp = np.kron(I_T, X)\n",
    "# N = temp @ M @ temp.T\n",
    "\n",
    "# interaction matrix: using einsum is much faster!!!\n",
    "N1 = N.reshape((T, n, T, n))\n",
    "A = np.einsum('tiTi -> tT', N1)"
   ]
  },
  {
   "cell_type": "code",
   "execution_count": 48,
   "metadata": {},
   "outputs": [
    {
     "data": {
      "image/png": "[encoded data removed]",
      "text/plain": [
       "<Figure size 432x288 with 1 Axes>"
      ]
     },
     "metadata": {
      "needs_background": "light"
     },
     "output_type": "display_data"
    }
   ],
   "source": [
    "# generalization error\n",
    "factor = la.inv(I_T - A/n) \n",
    "# factor = la.lapack.clapack.dtrtri(I_T - A/n, lower=True)[0] # good for large T\n",
    "gen = np.diag(H.T @ H + sigma**2 * np.ones((T,T)))\n",
    "gen_est = np.diag(n**(-1) * factor @ F.T @ F @ factor.T)\n",
    "plt.xlabel('iteration')\n",
    "plt.ylabel('generalization error')\n",
    "plt.plot(range(T), gen,'b+', label='true')\n",
    "# plt.ylim(0, 60)\n",
    "plt.plot(range(T), gen_est,'r.', label='estimate')\n",
    "plt.legend()\n",
    "plt.show()"
   ]
  },
  {
   "cell_type": "code",
   "execution_count": 49,
   "metadata": {},
   "outputs": [
    {
     "data": {
      "text/plain": [
       "[25.250000000000004, 25.06255510526121, 25.062555105261207]"
      ]
     },
     "execution_count": 49,
     "metadata": {},
     "output_type": "execute_result"
    }
   ],
   "source": [
    "[gen[0], gen_est[0], np.sum(y**2)/n]"
   ]
  }
 ],
 "metadata": {
  "interpreter": {
   "hash": "aee8b7b246df8f9039afb4144a1f6fd8d2ca17a180786b69acc140d282b71a49"
  },
  "kernelspec": {
   "display_name": "Python 3 (ipykernel)",
   "language": "python",
   "name": "python3"
  },
  "language_info": {
   "codemirror_mode": {
    "name": "ipython",
    "version": 3
   },
   "file_extension": ".py",
   "mimetype": "text/x-python",
   "name": "python",
   "nbconvert_exporter": "python",
   "pygments_lexer": "ipython3",
   "version": "3.9.13"
  }
 },
 "nbformat": 4,
 "nbformat_minor": 2
}
